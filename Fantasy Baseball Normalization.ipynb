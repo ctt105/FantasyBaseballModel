{
 "cells": [
  {
   "cell_type": "code",
   "execution_count": 33,
   "metadata": {
    "collapsed": true
   },
   "outputs": [],
   "source": [
    "import pandas as pd\n",
    "import numpy as np\n",
    "import os\n",
    "from scipy.stats import zscore\n",
    "from heapq import nlargest\n",
    "\n",
    "# this_dir, this_filename = os.path.split(__file__)\n",
    "# DATA_PATH = os.path.join(this_dir, \"Catchers 2020 Projections.csv\")\n",
    "\n",
    "# catchers_proj = pd.read_csv(DATA_PATH)"
   ]
  },
  {
   "cell_type": "code",
   "execution_count": 90,
   "metadata": {},
   "outputs": [],
   "source": [
    "catchers_proj = pd.read_csv('C:/Users/Chris Toomey/fantasy-sports-pipeline/Data/Catchers 2020 Projections.csv')\n",
    "first_proj = pd.read_csv('C:/Users/Chris Toomey/fantasy-sports-pipeline/Data/First Basemen 2020 Projections.csv')\n",
    "second_proj = pd.read_csv('C:/Users/Chris Toomey/fantasy-sports-pipeline/Data/Second Basemen 2020 Projections.csv')\n",
    "third_proj = pd.read_csv('C:/Users/Chris Toomey/fantasy-sports-pipeline/Data/Third Basemen 2020 Projections.csv')\n",
    "ss_proj = pd.read_csv('C:/Users/Chris Toomey/fantasy-sports-pipeline/Data/Shortstop 2020 Projections.csv')\n",
    "left_proj = pd.read_csv('C:/Users/Chris Toomey/fantasy-sports-pipeline/Data/Left Fielder 2020 Projections.csv')\n",
    "center_proj = pd.read_csv('C:/Users/Chris Toomey/fantasy-sports-pipeline/Data/Center Fielder 2020 Projections.csv')\n",
    "right_proj = pd.read_csv('C:/Users/Chris Toomey/fantasy-sports-pipeline/Data/Right Fielder 2020 Projections.csv')\n",
    "\n",
    "pos_players = {'C': catchers_proj, '1B': first_proj, '2B': second_proj, '3B': third_proj, 'SS': ss_proj\\\n",
    "               , 'LF': left_proj, 'CF': center_proj, 'RF': right_proj}"
   ]
  },
  {
   "cell_type": "code",
   "execution_count": 92,
   "metadata": {},
   "outputs": [],
   "source": [
    "def avg_val_pos(pos, dataframe, cols=None):\n",
    "    qual_player = dataframe[dataframe.AB > 100]\n",
    "    qual_player = qual_player.dropna(axis=1, how='all')\n",
    "    if cols is None:\n",
    "        qual_col = qual_player[['HR', 'R', 'RBI', 'BB', 'AVG', 'OPS', 'SB']]\n",
    "    else:\n",
    "        qual_col = qual_player[cols]\n",
    "\n",
    "    norm_col = qual_col.apply(zscore)\n",
    "    qual_player['Pos'] = pos\n",
    "    qual_player['Average Value'] = norm_col.mean(axis=1)\n",
    "    return qual_player[['Name','Pos', 'Average Value']]\n",
    "\n",
    "# avg_val_pos('C', catchers_proj)"
   ]
  },
  {
   "cell_type": "code",
   "execution_count": 97,
   "metadata": {},
   "outputs": [
    {
     "name": "stdout",
     "output_type": "stream",
     "text": [
      "                 Name Pos  Average Value\n",
      "379  Mike Trout        CF  2.711154     \n",
      "451  Christian Yelich  RF  2.376250     \n",
      "60   Cody Bellinger    1B  2.323547     \n",
      "1    J.T. Realmuto     C   2.190456     \n",
      "0    Yasmani Grandal   C   2.172527     \n",
      "..               ...  ..        ...     \n",
      "59   Jeff Mathis       C  -1.324353     \n",
      "180  Tyler Wade        2B -1.350212     \n",
      "294  Jonathan Arauz    SS -1.371603     \n",
      "183  Daniel Descalso   2B -1.400989     \n",
      "114  Mark Reynolds     1B -1.439072     \n",
      "\n",
      "[401 rows x 3 columns]\n"
     ]
    }
   ],
   "source": [
    "pos_val_df = pd.DataFrame(columns=['Name','Pos', 'Average Value'])\n",
    "\n",
    "for key, value in pos_players.items():\n",
    "    val = avg_val_pos(key, value)\n",
    "    pos_val_df = pos_val_df.append(val, ignore_index=True)\n",
    "    \n",
    "pos_val_df = pos_val_df.sort_values('Average Value', ascending = False)\n",
    "\n",
    "no_dups_table = pos_val_df.drop_duplicates(subset='Name', keep='first')\n",
    "    \n",
    "print (no_dups_table)"
   ]
  }
 ],
 "metadata": {
  "kernelspec": {
   "display_name": "Python 3",
   "language": "python",
   "name": "python3"
  }
 },
 "nbformat": 4,
 "nbformat_minor": 2
}
